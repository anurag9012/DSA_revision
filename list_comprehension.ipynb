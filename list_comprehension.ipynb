{
  "nbformat": 4,
  "nbformat_minor": 0,
  "metadata": {
    "colab": {
      "provenance": [],
      "toc_visible": true,
      "authorship_tag": "ABX9TyOk1DVA6tqXO6IHgztVbhtz",
      "include_colab_link": true
    },
    "kernelspec": {
      "name": "python3",
      "display_name": "Python 3"
    },
    "language_info": {
      "name": "python"
    }
  },
  "cells": [
    {
      "cell_type": "markdown",
      "metadata": {
        "id": "view-in-github",
        "colab_type": "text"
      },
      "source": [
        "<a href=\"https://colab.research.google.com/github/anurag9012/DSA_revision/blob/main/list_comprehension.ipynb\" target=\"_parent\"><img src=\"https://colab.research.google.com/assets/colab-badge.svg\" alt=\"Open In Colab\"/></a>"
      ]
    },
    {
      "cell_type": "code",
      "execution_count": null,
      "metadata": {
        "id": "pfl88Ju-3KYC"
      },
      "outputs": [],
      "source": [
        "lst1=[1,2,3,4,5]\n",
        "for i in lst1:\n",
        "  print(i**2)"
      ]
    },
    {
      "cell_type": "code",
      "source": [
        "lst2=[i**3 for i in lst1]\n",
        "print(lst2)"
      ],
      "metadata": {
        "colab": {
          "base_uri": "https://localhost:8080/"
        },
        "id": "LMr47G-O3uJI",
        "outputId": "d6faf041-03b4-411b-ec01-7e2493069d99"
      },
      "execution_count": 3,
      "outputs": [
        {
          "output_type": "stream",
          "name": "stdout",
          "text": [
            "[1, 8, 27, 64, 125]\n"
          ]
        }
      ]
    },
    {
      "cell_type": "code",
      "source": [
        "#the factors of 36 using for loop\n",
        "num=36\n",
        "ls=[]\n",
        "for i in range(1,37):\n",
        "    if (num%i==0):\n",
        "     ls.append(i)\n",
        "print(ls)"
      ],
      "metadata": {
        "colab": {
          "base_uri": "https://localhost:8080/"
        },
        "id": "x5z94e1B5stQ",
        "outputId": "5aa125c3-4105-4cbd-95fe-41a669ff1582"
      },
      "execution_count": 5,
      "outputs": [
        {
          "output_type": "stream",
          "name": "stdout",
          "text": [
            "[1, 2, 3, 4, 6, 9, 12, 18, 36]\n"
          ]
        }
      ]
    },
    {
      "cell_type": "code",
      "source": [
        "lss2=[]\n",
        "fact_of36=[lss2.append(i) for i in range(1,37) if (num%i==0) ]\n",
        "lss2"
      ],
      "metadata": {
        "colab": {
          "base_uri": "https://localhost:8080/"
        },
        "id": "UDSoizC56cGO",
        "outputId": "feade695-3f8e-46f2-c302-95242eb9390c"
      },
      "execution_count": 6,
      "outputs": [
        {
          "output_type": "execute_result",
          "data": {
            "text/plain": [
              "[1, 2, 3, 4, 6, 9, 12, 18, 36]"
            ]
          },
          "metadata": {},
          "execution_count": 6
        }
      ]
    }
  ]
}